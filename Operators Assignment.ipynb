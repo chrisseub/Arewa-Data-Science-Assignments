{
 "cells": [
  {
   "cell_type": "code",
   "execution_count": null,
   "metadata": {},
   "outputs": [],
   "source": [
    "age = 26\n",
    "height = 5.10\n",
    "complex_num = 1 + 1j\n",
    "base = input(\" \")\n",
    "tri_height = input(\"What is the height: \")\n",
    "print(tri_height)\n",
    "area_of_triangle = 0.5 * base * tri_height \n",
    "print(\"Area of the triangle is:\", area_of_triangle)\n"
   ]
  },
  {
   "cell_type": "code",
   "execution_count": null,
   "metadata": {},
   "outputs": [
    {
     "name": "stdout",
     "output_type": "stream",
     "text": [
      "You have lived for: 820497600.0\n"
     ]
    },
    {
     "ename": "ValueError",
     "evalue": "invalid literal for int() with base 10: ''",
     "output_type": "error",
     "traceback": [
      "\u001b[1;31m---------------------------------------------------------------------------\u001b[0m",
      "\u001b[1;31mValueError\u001b[0m                                Traceback (most recent call last)",
      "Cell \u001b[1;32mIn[4], line 5\u001b[0m\n\u001b[0;32m      3\u001b[0m seconds_lived \u001b[38;5;241m=\u001b[39m age \u001b[38;5;241m*\u001b[39m seconds_in_one_year\n\u001b[0;32m      4\u001b[0m \u001b[38;5;28mprint\u001b[39m(\u001b[38;5;124m\"\u001b[39m\u001b[38;5;124mYou have lived for:\u001b[39m\u001b[38;5;124m\"\u001b[39m, seconds_lived)\n\u001b[1;32m----> 5\u001b[0m get_age \u001b[38;5;241m=\u001b[39m \u001b[38;5;28mint\u001b[39m(\u001b[38;5;28minput\u001b[39m(\u001b[38;5;124m\"\u001b[39m\u001b[38;5;124mEnter your age: 18\u001b[39m\u001b[38;5;124m\"\u001b[39m))\n\u001b[0;32m      6\u001b[0m seconds_lived \u001b[38;5;241m=\u001b[39m calculate_seconds_lived(get_age)\n\u001b[0;32m      7\u001b[0m \u001b[38;5;28mprint\u001b[39m(\u001b[38;5;124m\"\u001b[39m\u001b[38;5;124mYou\u001b[39m\u001b[38;5;124m'\u001b[39m\u001b[38;5;124mve lived for \u001b[39m\u001b[38;5;132;01m{seconds_lived}\u001b[39;00m\u001b[38;5;124m seconds\u001b[39m\u001b[38;5;124m\"\u001b[39m)\n",
      "\u001b[1;31mValueError\u001b[0m: invalid literal for int() with base 10: ''"
     ]
    }
   ],
   "source": [
    "age = 26\n",
    "seconds_in_one_year = 60 * 60 * 24 * 365.25 #To account for leap years\n",
    "seconds_lived = age * seconds_in_one_year\n",
    "print(\"You have lived for:\", seconds_lived)\n",
    "\n",
    "get_age = int(input(\"Enter your age: \"))\n",
    "seconds_lived = calculate_seconds_lived(get_age)\n",
    "print(\"You've lived for {seconds_lived} seconds\")"
   ]
  }
 ],
 "metadata": {
  "kernelspec": {
   "display_name": "base",
   "language": "python",
   "name": "python3"
  },
  "language_info": {
   "codemirror_mode": {
    "name": "ipython",
    "version": 3
   },
   "file_extension": ".py",
   "mimetype": "text/x-python",
   "name": "python",
   "nbconvert_exporter": "python",
   "pygments_lexer": "ipython3",
   "version": "3.12.7"
  }
 },
 "nbformat": 4,
 "nbformat_minor": 2
}
