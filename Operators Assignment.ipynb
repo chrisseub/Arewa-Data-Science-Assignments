{
 "cells": [
  {
   "cell_type": "code",
   "execution_count": null,
   "metadata": {},
   "outputs": [],
   "source": [
    "age = 26\n",
    "height = 5.10\n",
    "complex_num = 1 + 1j\n",
    "base = input(\" \")\n",
    "tri_height = input(\"What is the height: \")\n",
    "print(tri_height)\n",
    "area_of_triangle = 0.5 * base * tri_height \n",
    "print(\"Area of the triangle is:\", area_of_triangle)\n"
   ]
  },
  {
   "cell_type": "code",
   "execution_count": 3,
   "metadata": {},
   "outputs": [
    {
     "name": "stdout",
     "output_type": "stream",
     "text": [
      "You have lived for: 820497600.0\n",
      "You've lived for 852055200.0 seconds\n"
     ]
    }
   ],
   "source": [
    "age = 26\n",
    "seconds_in_one_year = 60 * 60 * 24 * 365.25 #To account for leap years\n",
    "seconds_lived = age * seconds_in_one_year\n",
    "print(\"You have lived for:\", seconds_lived)\n",
    "\n",
    "get_age = (int(input(\"Enter your age: \")))\n",
    "seconds_lived = get_age * seconds_in_one_year\n",
    "print(f\"You've lived for {seconds_lived} seconds\")"
   ]
  }
 ],
 "metadata": {
  "kernelspec": {
   "display_name": "base",
   "language": "python",
   "name": "python3"
  },
  "language_info": {
   "codemirror_mode": {
    "name": "ipython",
    "version": 3
   },
   "file_extension": ".py",
   "mimetype": "text/x-python",
   "name": "python",
   "nbconvert_exporter": "python",
   "pygments_lexer": "ipython3",
   "version": "3.12.7"
  }
 },
 "nbformat": 4,
 "nbformat_minor": 2
}
