{
 "cells": [
  {
   "cell_type": "markdown",
   "metadata": {},
   "source": [
    "These are the excercises for module \n",
    "Assignment for Lists, Tuples and Sets "
   ]
  },
  {
   "cell_type": "code",
   "execution_count": 4,
   "metadata": {},
   "outputs": [
    {
     "name": "stdout",
     "output_type": "stream",
     "text": [
      "[]\n",
      "['tshirt', 'cap', 'jean']\n",
      "Number of items: 5\n"
     ]
    }
   ],
   "source": [
    "empty_list = []\n",
    "print(empty_list)\n",
    "five_items = ['tshirt', 'shirt', 'cap', 'sunglass', 'jean']\n",
    "first_middle_last = five_items[::2]\n",
    "print(first_middle_last)\n",
    "print(\"Number of items:\", len(five_items))\n"
   ]
  },
  {
   "cell_type": "code",
   "execution_count": 3,
   "metadata": {},
   "outputs": [
    {
     "name": "stdout",
     "output_type": "stream",
     "text": [
      "['Christopher', '27', '170cm', 'single', 'Ibadan']\n",
      "['Facebook', 'Google', 'Microsoft', 'Apple', 'IBM', 'Oracle', 'Amazon']\n",
      "Number of Companies: 7\n",
      "Both lists: ['tshirt', 'shirt', 'cap', 'sunglass', 'jean', 'Christopher', '27', '170cm', 'single', 'Ibadan']\n"
     ]
    }
   ],
   "source": [
    "mixed_data_types = ['Christopher', '27', '170cm', 'single', 'Ibadan']\n",
    "IT_Companies = ['Facebook', 'Google', 'Microsoft', 'Apple', 'IBM', 'Oracle', 'Amazon']\n",
    "print(mixed_data_types)\n",
    "print(IT_Companies)\n",
    "print(\"Number of Companies:\", len(IT_Companies))\n",
    "five_items.extend(mixed_data_types)\n",
    "print('Both lists:', five_items)"
   ]
  }
 ],
 "metadata": {
  "kernelspec": {
   "display_name": "base",
   "language": "python",
   "name": "python3"
  },
  "language_info": {
   "codemirror_mode": {
    "name": "ipython",
    "version": 3
   },
   "file_extension": ".py",
   "mimetype": "text/x-python",
   "name": "python",
   "nbconvert_exporter": "python",
   "pygments_lexer": "ipython3",
   "version": "3.12.7"
  }
 },
 "nbformat": 4,
 "nbformat_minor": 2
}
