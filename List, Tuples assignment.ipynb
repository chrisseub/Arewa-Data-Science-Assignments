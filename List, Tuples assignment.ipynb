{
 "cells": [
  {
   "cell_type": "markdown",
   "metadata": {},
   "source": [
    "These are the excercises for module \n",
    "Assignment for Lists, Tuples and Sets "
   ]
  },
  {
   "cell_type": "code",
   "execution_count": 5,
   "metadata": {},
   "outputs": [
    {
     "name": "stdout",
     "output_type": "stream",
     "text": [
      "[]\n",
      "['tshirt', 'cap', 'jean']\n",
      "Number of items: 5\n"
     ]
    }
   ],
   "source": [
    "empty_list = []\n",
    "print(empty_list)\n",
    "five_items = ['tshirt', 'shirt', 'cap', 'sunglass', 'jean']\n",
    "first_middle_last = five_items[::2]\n",
    "print(first_middle_last)\n",
    "print(\"Number of items:\", len(five_items))\n"
   ]
  },
  {
   "cell_type": "code",
   "execution_count": 6,
   "metadata": {},
   "outputs": [
    {
     "name": "stdout",
     "output_type": "stream",
     "text": [
      "['Christopher', 27, '170cm', 'single', 'Ibadan']\n",
      "['Facebook', 'Google', 'Microsoft', 'Apple', 'IBM', 'Oracle', 'Amazon']\n",
      "Number of Companies: 7\n",
      "Both lists: ['tshirt', 'shirt', 'cap', 'sunglass', 'jean', 'Christopher', 27, '170cm', 'single', 'Ibadan']\n"
     ]
    }
   ],
   "source": [
    "mixed_data_types = ['Christopher', 27, '170cm', 'single', 'Ibadan']\n",
    "IT_Companies = ['Facebook', 'Google', 'Microsoft', 'Apple', 'IBM', 'Oracle', 'Amazon']\n",
    "print(mixed_data_types)\n",
    "print(IT_Companies)\n",
    "print(\"Number of Companies:\", len(IT_Companies))\n",
    "five_items.extend(mixed_data_types)\n",
    "print('Both lists:', five_items)\n"
   ]
  },
  {
   "cell_type": "code",
   "execution_count": 3,
   "metadata": {},
   "outputs": [
    {
     "name": "stdout",
     "output_type": "stream",
     "text": [
      "7\n",
      "{'Twitter', 'Oracle', 'Microsoft', 'Google', 'Apple', 'Facebook', 'Amazon', 'IBM'}\n"
     ]
    }
   ],
   "source": [
    "#SETS\n",
    "IT_Companies = {'Facebook', 'Google', 'Microsoft', 'Apple', 'IBM', 'Oracle', 'Amazon'}\n",
    "A = {19, 22, 24, 20, 25, 26}\n",
    "B = {19, 22, 20, 25, 26, 24, 28, 27}\n",
    "age = {22, 19, 24, 25, 26, 24, 25, 24}\n",
    "print(len(IT_Companies))\n",
    "IT_Companies.add('Twitter')\n",
    "print(IT_Companies)\n",
    "\n"
   ]
  },
  {
   "cell_type": "code",
   "execution_count": 9,
   "metadata": {},
   "outputs": [
    {
     "name": "stdout",
     "output_type": "stream",
     "text": [
      "('Chris', ['Samuel', 'Moses', 'Deborah', 'Lizzy'])\n",
      "False\n",
      "True\n"
     ]
    }
   ],
   "source": [
    "#TUPLES\n",
    "empty_tuple = ()\n",
    "sibling_bros = ('Samuel', 'Moses')\n",
    "sibling_sis = ('Deborah', 'Lizzy')\n",
    "siblings = sibling_bros + sibling_sis\n",
    "len(siblings)\n",
    "family_list = 'Chris', list(siblings)\n",
    "print(family_list)\n",
    "\n",
    "nordic_countries = ('Denmark','Finland','Iceland','Norway','Sweden')\n",
    "print('Estonia' in nordic_countries)\n",
    "print('Iceland' in nordic_countries)"
   ]
  }
 ],
 "metadata": {
  "kernelspec": {
   "display_name": "base",
   "language": "python",
   "name": "python3"
  },
  "language_info": {
   "codemirror_mode": {
    "name": "ipython",
    "version": 3
   },
   "file_extension": ".py",
   "mimetype": "text/x-python",
   "name": "python",
   "nbconvert_exporter": "python",
   "pygments_lexer": "ipython3",
   "version": "3.12.7"
  }
 },
 "nbformat": 4,
 "nbformat_minor": 2
}
