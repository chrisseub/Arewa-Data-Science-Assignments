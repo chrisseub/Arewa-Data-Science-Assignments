{
  "nbformat": 4,
  "nbformat_minor": 0,
  "metadata": {
    "colab": {
      "provenance": [],
      "authorship_tag": "ABX9TyM2BPbCu06Env0dvKU/Lq0v",
      "include_colab_link": true
    },
    "kernelspec": {
      "name": "python3",
      "display_name": "Python 3"
    },
    "language_info": {
      "name": "python"
    }
  },
  "cells": [
    {
      "cell_type": "markdown",
      "metadata": {
        "id": "view-in-github",
        "colab_type": "text"
      },
      "source": [
        "<a href=\"https://colab.research.google.com/github/chrisseub/Arewa-Data-Science-Assignments/blob/main/FUNCTIONS.ipynb\" target=\"_parent\"><img src=\"https://colab.research.google.com/assets/colab-badge.svg\" alt=\"Open In Colab\"/></a>"
      ]
    },
    {
      "cell_type": "markdown",
      "source": [
        "Function `add_two_numbers`"
      ],
      "metadata": {
        "id": "UyoDtCpWTNUn"
      }
    },
    {
      "cell_type": "code",
      "execution_count": 1,
      "metadata": {
        "colab": {
          "base_uri": "https://localhost:8080/"
        },
        "id": "9FMU32-5Snzw",
        "outputId": "e9470bf3-8cef-42b8-9202-d8a182fc7af5"
      },
      "outputs": [
        {
          "output_type": "stream",
          "name": "stdout",
          "text": [
            "Sum of TWO NUMBERS: 8\n"
          ]
        }
      ],
      "source": [
        "def add_two_numbers(a, b):\n",
        "    return a + b\n",
        "\n",
        "# Example\n",
        "print(\"Sum of TWO NUMBERS:\", add_two_numbers(3, 5))\n"
      ]
    },
    {
      "cell_type": "markdown",
      "source": [
        "Function `area_of_circle`"
      ],
      "metadata": {
        "id": "3ffOcg7CTece"
      }
    },
    {
      "cell_type": "code",
      "source": [
        "import math\n",
        "\n",
        "def area_of_circle(r):\n",
        "    return math.pi * r * r\n",
        "\n",
        "print(\"Area of a circle with radius 7:\", area_of_circle(7))\n"
      ],
      "metadata": {
        "colab": {
          "base_uri": "https://localhost:8080/"
        },
        "id": "Lt21SryDTvV0",
        "outputId": "0bfb2e8f-a974-4db0-801c-8979fbe097f2"
      },
      "execution_count": 2,
      "outputs": [
        {
          "output_type": "stream",
          "name": "stdout",
          "text": [
            "Area of a circle with radius 7: 153.93804002589985\n"
          ]
        }
      ]
    },
    {
      "cell_type": "markdown",
      "source": [
        "Function `add_all_nums`"
      ],
      "metadata": {
        "id": "h4Ea1sgXUHi3"
      }
    },
    {
      "cell_type": "code",
      "source": [
        "def add_all_nums(*args):\n",
        "    if all(isinstance(arg, (int, float)) for arg in args):\n",
        "        return sum(args)\n",
        "    else:\n",
        "        return \"Error: All arguments must be numbers.\"\n",
        "\n",
        "print(\"Sum of 1, 2, 3:\", add_all_nums(1, 2, 3))\n",
        "print(\"Sum of 1, 'a', 3:\", add_all_nums(1, 'a', 3))\n"
      ],
      "metadata": {
        "colab": {
          "base_uri": "https://localhost:8080/"
        },
        "id": "zvO-AC1vUZ2G",
        "outputId": "b900660b-fc32-4dc9-bea6-b9dc5a5f098b"
      },
      "execution_count": 3,
      "outputs": [
        {
          "output_type": "stream",
          "name": "stdout",
          "text": [
            "Sum of 1, 2, 3: 6\n",
            "Sum of 1, 'a', 3: Error: All arguments must be numbers.\n"
          ]
        }
      ]
    },
    {
      "cell_type": "markdown",
      "source": [
        "Function `convert_celsius_to_fahrenheit`"
      ],
      "metadata": {
        "id": "pSMpWaY-Uw5D"
      }
    },
    {
      "cell_type": "code",
      "source": [
        "def convert_celsius_to_fahrenheit(celsius):\n",
        "    return (celsius * 9/5) + 32\n",
        "\n",
        "print(\"°C to °F:\", convert_celsius_to_fahrenheit(25))"
      ],
      "metadata": {
        "colab": {
          "base_uri": "https://localhost:8080/"
        },
        "id": "q7j6q2s_U7df",
        "outputId": "1d15cdb9-0f12-48c4-c4af-b959f8610c0e"
      },
      "execution_count": 4,
      "outputs": [
        {
          "output_type": "stream",
          "name": "stdout",
          "text": [
            "°C to °F: 77.0\n"
          ]
        }
      ]
    },
    {
      "cell_type": "markdown",
      "source": [
        "Function `check_season`"
      ],
      "metadata": {
        "id": "ByhZ-aWzVbCZ"
      }
    },
    {
      "cell_type": "code",
      "source": [
        "def check_season(month):\n",
        "    month = month.strip().capitalize()  # Handle case insensitivity\n",
        "    if month in [\"September\", \"October\", \"November\"]:\n",
        "        return \"Autumn\"\n",
        "    elif month in [\"December\", \"January\", \"February\"]:\n",
        "        return \"Winter\"\n",
        "    elif month in [\"March\", \"April\", \"May\"]:\n",
        "        return \"Spring\"\n",
        "    elif month in [\"June\", \"July\", \"August\"]:\n",
        "        return \"Summer\"\n",
        "    else:\n",
        "        return \"Invalid month.\"\n",
        "\n",
        "print(\"Season for November:\", check_season(\"November\"))\n",
        "print(\"Season for March:\", check_season(\"march\"))\n",
        "print(\"Season for InvalidMonth:\", check_season(\"InvalidMonth\"))\n"
      ],
      "metadata": {
        "colab": {
          "base_uri": "https://localhost:8080/"
        },
        "id": "ivDfMS7RViBP",
        "outputId": "901e5f7d-9b37-429d-8dd2-f3afa10ff0ed"
      },
      "execution_count": 5,
      "outputs": [
        {
          "output_type": "stream",
          "name": "stdout",
          "text": [
            "Season for November: Autumn\n",
            "Season for March: Spring\n",
            "Season for InvalidMonth: Invalid month.\n"
          ]
        }
      ]
    }
  ]
}