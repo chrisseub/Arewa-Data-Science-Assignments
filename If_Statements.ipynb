{
  "nbformat": 4,
  "nbformat_minor": 0,
  "metadata": {
    "colab": {
      "provenance": [],
      "authorship_tag": "ABX9TyPZXijIuWGk/QJSn5IOUQoM",
      "include_colab_link": true
    },
    "kernelspec": {
      "name": "python3",
      "display_name": "Python 3"
    },
    "language_info": {
      "name": "python"
    }
  },
  "cells": [
    {
      "cell_type": "markdown",
      "metadata": {
        "id": "view-in-github",
        "colab_type": "text"
      },
      "source": [
        "<a href=\"https://colab.research.google.com/github/chrisseub/Arewa-Data-Science-Assignments/blob/main/If_Statements.ipynb\" target=\"_parent\"><img src=\"https://colab.research.google.com/assets/colab-badge.svg\" alt=\"Open In Colab\"/></a>"
      ]
    },
    {
      "cell_type": "code",
      "execution_count": 1,
      "metadata": {
        "colab": {
          "base_uri": "https://localhost:8080/"
        },
        "id": "zJ04zc53NNAi",
        "outputId": "16a4e561-cd55-4f25-b60d-a82fae4e3e09"
      },
      "outputs": [
        {
          "output_type": "stream",
          "name": "stdout",
          "text": [
            "Enter your age: 15\n",
            "You are not old enough to drive. Please wait 3 more year(s).\n"
          ]
        }
      ],
      "source": [
        "# Get user input\n",
        "age = int(input(\"Enter your age: \"))\n",
        "\n",
        "# Check the age and provide feedback\n",
        "if age >= 18:\n",
        "    print(\"You are old enough to drive.\")\n",
        "else:\n",
        "    years_to_wait = 18 - age\n",
        "    print(f\"You are not old enough to drive. Please wait {years_to_wait} more year(s).\")"
      ]
    },
    {
      "cell_type": "code",
      "source": [
        "# Define your_age\n",
        "your_age = 27  # Example age, you can change this value.\n",
        "\n",
        "# Get user's age\n",
        "my_age = int(input(\"Enter your age: \"))\n",
        "\n",
        "# Compare ages\n",
        "if my_age > your_age:\n",
        "    age_difference = my_age - your_age\n",
        "    if age_difference == 1:\n",
        "        print(\"You are 1 year older than me.\")\n",
        "    else:\n",
        "        print(f\"You are {age_difference} years older than me.\")\n",
        "elif my_age < your_age:\n",
        "    age_difference = your_age - my_age\n",
        "    if age_difference == 1:\n",
        "        print(\"I am 1 year older than you.\")\n",
        "    else:\n",
        "        print(f\"I am {age_difference} years older than you.\")\n",
        "else:\n",
        "    print(\"We are the same age!\")\n"
      ],
      "metadata": {
        "colab": {
          "base_uri": "https://localhost:8080/"
        },
        "id": "TxsEqMOgN6FL",
        "outputId": "7de78a1e-eb05-424e-dea1-100372a97576"
      },
      "execution_count": 3,
      "outputs": [
        {
          "output_type": "stream",
          "name": "stdout",
          "text": [
            "Enter your age: 20\n",
            "I am 7 years older than you.\n"
          ]
        }
      ]
    },
    {
      "cell_type": "code",
      "source": [
        "# Get the student's score\n",
        "score = int(input(\"Enter the student's score: \"))\n",
        "\n",
        "# Determine the grade\n",
        "if 80 <= score <= 100:\n",
        "    grade = \"A\"\n",
        "elif 70 <= score <= 79:\n",
        "    grade = \"B\"\n",
        "elif 60 <= score <= 69:\n",
        "    grade = \"C\"\n",
        "elif 50 <= score <= 59:\n",
        "    grade = \"D\"\n",
        "elif 0 <= score <= 49:\n",
        "    grade = \"F\"\n",
        "else:\n",
        "    grade = \"Thats an Invalid score\"  # Handle invalid scores\n",
        "\n",
        "# Print the grade\n",
        "print(f\"The student's grade is: {grade}\")\n"
      ],
      "metadata": {
        "colab": {
          "base_uri": "https://localhost:8080/"
        },
        "id": "b2HwD0YWOeku",
        "outputId": "e9fb9e20-6d41-4b02-92f5-3a8d737f7710"
      },
      "execution_count": 5,
      "outputs": [
        {
          "output_type": "stream",
          "name": "stdout",
          "text": [
            "Enter the student's score: 109\n",
            "The student's grade is: Thats an Invalid score\n"
          ]
        }
      ]
    },
    {
      "cell_type": "code",
      "source": [
        "# Get the user's input for the month\n",
        "month = input(\"Enter a month: \").strip().capitalize()\n",
        "\n",
        "# Determine the season\n",
        "if month in [\"September\", \"October\", \"November\"]:\n",
        "    season = \"Autumn\"\n",
        "elif month in [\"December\", \"January\", \"February\"]:\n",
        "    season = \"Winter\"\n",
        "elif month in [\"March\", \"April\", \"May\"]:\n",
        "    season = \"Spring\"\n",
        "elif month in [\"June\", \"July\", \"August\"]:\n",
        "    season = \"Summer\"\n",
        "else:\n",
        "    season = \"Invalid month\"  # Handle invalid input\n",
        "\n",
        "# Print the result\n",
        "if season != \"Invalid month\":\n",
        "    print(f\"The season is {season}.\")\n",
        "else:\n",
        "    print(\"Please enter a valid month.\")\n"
      ],
      "metadata": {
        "colab": {
          "base_uri": "https://localhost:8080/"
        },
        "id": "PkyWaQYtPCYp",
        "outputId": "db53a0d7-d191-419a-fce1-d9ee3043f283"
      },
      "execution_count": 6,
      "outputs": [
        {
          "output_type": "stream",
          "name": "stdout",
          "text": [
            "Enter a month: january\n",
            "The season is Winter.\n"
          ]
        }
      ]
    },
    {
      "cell_type": "code",
      "source": [
        "# Initialize the list of fruits\n",
        "fruits = ['banana', 'orange', 'mango', 'lemon']\n",
        "\n",
        "# Get user input for the fruit\n",
        "fruit = input(\"Enter a fruit: \").strip().lower()\n",
        "\n",
        "# Check if the fruit exists in the list\n",
        "if fruit in fruits:\n",
        "    print(\"That fruit already exists in the list.\")\n",
        "else:\n",
        "    fruits.append(fruit)\n",
        "    print(f\"{fruit.capitalize()} has been added to the list.\")\n",
        "    print(\"Modified list:\", fruits)\n"
      ],
      "metadata": {
        "colab": {
          "base_uri": "https://localhost:8080/"
        },
        "id": "nd1jZZFVPe72",
        "outputId": "1ef02881-64bd-4dca-c8de-b8291a9cd074"
      },
      "execution_count": 7,
      "outputs": [
        {
          "output_type": "stream",
          "name": "stdout",
          "text": [
            "Enter a fruit: papaya\n",
            "Papaya has been added to the list.\n",
            "Modified list: ['banana', 'orange', 'mango', 'lemon', 'papaya']\n"
          ]
        }
      ]
    }
  ]
}