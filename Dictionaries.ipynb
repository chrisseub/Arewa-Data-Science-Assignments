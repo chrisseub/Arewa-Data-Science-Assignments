{
 "cells": [
  {
   "cell_type": "markdown",
   "metadata": {},
   "source": [
    "# Exercises for module 6\n",
    "# Dictionaries \n"
   ]
  },
  {
   "cell_type": "code",
   "execution_count": 1,
   "metadata": {},
   "outputs": [
    {
     "name": "stdout",
     "output_type": "stream",
     "text": [
      "9\n",
      "['Data Analysis with Statistical Tools', 'Molecular lab techniques', 'Data Analysis with Python']\n",
      "dict_items([('colour', 'black'), ('breed', 'rottweiler'), ('age', 2)])\n",
      "['first_name', 'last_name', 'gender', 'age', 'marital_status', 'skills', 'address', 'city', 'country']\n",
      "['Christopher', 'Adetola', 'Male', 27, 'Single', ['Data Analysis with Statistical Tools', 'Molecular lab techniques', 'Data Analysis with Python', 'Teaching'], 'Somewhere Great', 'Ibadan', 'Nigeria']\n"
     ]
    }
   ],
   "source": [
    "dog = {}\n",
    "dog['colour'] = 'black'\n",
    "dog['breed'] = 'rottweiler'\n",
    "dog['age'] = 2\n",
    "\n",
    "student = {\n",
    "    'first_name' : 'Christopher',\n",
    "    'last_name' : 'Adetola',\n",
    "    'gender' : 'Male',\n",
    "    'age' : 27,\n",
    "    'marital_status' : 'Single',\n",
    "    'skills' : ['Data Analysis with Statistical Tools', 'Molecular lab techniques', 'Data Analysis with Python'],\n",
    "    'address' : 'Somewhere Great',\n",
    "    'city' : 'Ibadan',\n",
    "    'country' : 'Nigeria'\n",
    "    }\n",
    "print(len(student))\n",
    "print(student.get('skills'))\n",
    "student['skills'].append('Teaching')\n",
    "print(dog.items())\n",
    "keys_list = list(student.keys())\n",
    "print(keys_list)\n",
    "values_list = list(student.values())\n",
    "print(values_list)"
   ]
  },
  {
   "cell_type": "markdown",
   "metadata": {},
   "source": []
  }
 ],
 "metadata": {
  "kernelspec": {
   "display_name": "base",
   "language": "python",
   "name": "python3"
  },
  "language_info": {
   "codemirror_mode": {
    "name": "ipython",
    "version": 3
   },
   "file_extension": ".py",
   "mimetype": "text/x-python",
   "name": "python",
   "nbconvert_exporter": "python",
   "pygments_lexer": "ipython3",
   "version": "3.12.7"
  }
 },
 "nbformat": 4,
 "nbformat_minor": 2
}
