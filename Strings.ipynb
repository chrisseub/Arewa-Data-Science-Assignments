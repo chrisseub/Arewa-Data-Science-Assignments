{
 "cells": [
  {
   "cell_type": "code",
   "execution_count": null,
   "metadata": {},
   "outputs": [],
   "source": [
    "print(\"Thirty Days of Python\")\n",
    "print(\"Coding for All\")\n",
    "company = \"Coding for All\"\n",
    "print(company)\n",
    "print(len(company))\n"
   ]
  },
  {
   "cell_type": "code",
   "execution_count": 12,
   "metadata": {},
   "outputs": [
    {
     "name": "stdout",
     "output_type": "stream",
     "text": [
      "CODING FOR ALL\n",
      "coding for all\n",
      "Coding for all\n",
      "Coding For All\n",
      "cODING FOR aLL\n",
      "C\n",
      "I am enjoying this Coding for All challenge.\n",
      "I just wonder what is next\n"
     ]
    }
   ],
   "source": [
    "company = \"Coding for All\"\n",
    "print(company.upper())\n",
    "print(company.lower())\n",
    "print(company.capitalize())\n",
    "print(company.title())\n",
    "print(company.swapcase())\n",
    "first_letter = company[0]\n",
    "print(first_letter)\n",
    "print(f\"I am enjoying this {company} challenge.\\nI just wonder what is next\")\n"
   ]
  },
  {
   "cell_type": "code",
   "execution_count": 19,
   "metadata": {},
   "outputs": [
    {
     "name": "stdout",
     "output_type": "stream",
     "text": [
      "Name\t        Age\tCountry\n",
      "Asabenah\t250\tFinland\n"
     ]
    }
   ],
   "source": [
    "print(\"Name\\t        Age\\tCountry\")\n",
    "print(\"Asabenah\\t250\\tFinland\")"
   ]
  }
 ],
 "metadata": {
  "kernelspec": {
   "display_name": "base",
   "language": "python",
   "name": "python3"
  },
  "language_info": {
   "codemirror_mode": {
    "name": "ipython",
    "version": 3
   },
   "file_extension": ".py",
   "mimetype": "text/x-python",
   "name": "python",
   "nbconvert_exporter": "python",
   "pygments_lexer": "ipython3",
   "version": "3.12.7"
  }
 },
 "nbformat": 4,
 "nbformat_minor": 2
}
