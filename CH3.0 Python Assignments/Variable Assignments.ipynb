{
 "cells": [
  {
   "cell_type": "code",
   "execution_count": null,
   "metadata": {},
   "outputs": [
    {
     "data": {
      "text/plain": [
       "9"
      ]
     },
     "execution_count": 1,
     "metadata": {},
     "output_type": "execute_result"
    }
   ],
   "source": [
    "#TESTING\n",
    "import pandas as pd\n",
    "import numpy as np\n",
    "a = 1+3\n",
    "b = 3+2\n",
    "a + b"
   ]
  },
  {
   "cell_type": "code",
   "execution_count": null,
   "metadata": {},
   "outputs": [
    {
     "name": "stdout",
     "output_type": "stream",
     "text": [
      "10\n",
      "John\n"
     ]
    }
   ],
   "source": [
    "#ASSIGNMENT #Day 2: 30 Days of Python Programming\n",
    "#SIMPLE VARIABLE ASSIGNMENT\n",
    "X = 10\n",
    "print (X)\n"
   ]
  },
  {
   "cell_type": "code",
   "execution_count": 10,
   "metadata": {},
   "outputs": [
    {
     "name": "stdout",
     "output_type": "stream",
     "text": [
      "John\n"
     ]
    }
   ],
   "source": [
    "\n",
    "#Assigning Different Data Types\n",
    "age = 25\n",
    "height = 5.9\n",
    "name = \"John\"\n",
    "is_active = True\n",
    "print (name)\n"
   ]
  },
  {
   "cell_type": "code",
   "execution_count": 9,
   "metadata": {},
   "outputs": [
    {
     "name": "stdout",
     "output_type": "stream",
     "text": [
      "9\n"
     ]
    }
   ],
   "source": [
    "\n",
    "#Simple Addition\n",
    "a = 1+3\n",
    "b = 3+2\n",
    "print (a + b)\n"
   ]
  },
  {
   "cell_type": "code",
   "execution_count": 2,
   "metadata": {},
   "outputs": [
    {
     "name": "stdout",
     "output_type": "stream",
     "text": [
      "AliceWonderland\n",
      "\n"
     ]
    }
   ],
   "source": [
    "\n",
    "#String Concatenation\n",
    "first_name = \"Alice\"\n",
    "last_name = \"Wonderland\"\n",
    "full_name = (first_name + last_name)\n",
    "country = \"Nigeria\"\n",
    "city = \"Ibadan\"\n",
    "age = 31\n",
    "year = 2024\n",
    "is_married = True\n",
    "is_true = True\n",
    "is_light_on = True\n",
    "a,b,c,d = 1,2,3,4\n",
    "print (first_name + last_name)\n",
    "what_are_your_names =input(\"Please input your first and last name: \")\n",
    "print(what_are_your_names)\n"
   ]
  },
  {
   "cell_type": "code",
   "execution_count": 13,
   "metadata": {},
   "outputs": [
    {
     "name": "stdout",
     "output_type": "stream",
     "text": [
      "Area of a circle: 2826.0\n"
     ]
    }
   ],
   "source": [
    "\n",
    "#Variable Type Check\n",
    "x = \"Hello\"\n",
    "type(x)\n",
    "len(first_name)\n",
    "len(last_name)\n",
    "num_one = 5\n",
    "num_two = 4\n",
    "num_product = (num_one + num_two)\n",
    "num_division = (num_one / num_two)\n",
    "num_diff = (num_one - num_two)\n",
    "num_remainder = (num_one % num_two)\n",
    "radius = 30\n",
    "area_of_circle = 3.14 * radius ** 2\n",
    "print('Area of a circle:', area_of_circle)\n",
    "\n"
   ]
  },
  {
   "cell_type": "code",
   "execution_count": 8,
   "metadata": {},
   "outputs": [],
   "source": [
    "\n",
    "#Arithmetic Operations\n",
    "x = 15\n",
    "y = 4\n",
    "sum = x + y\n",
    "subtraction = x - y\n",
    "multiplication = x * y\n",
    "\n",
    "#to be continued\n",
    "#list assignment upcoming\n"
   ]
  }
 ],
 "metadata": {
  "kernelspec": {
   "display_name": "base",
   "language": "python",
   "name": "python3"
  },
  "language_info": {
   "codemirror_mode": {
    "name": "ipython",
    "version": 3
   },
   "file_extension": ".py",
   "mimetype": "text/x-python",
   "name": "python",
   "nbconvert_exporter": "python",
   "pygments_lexer": "ipython3",
   "version": "3.12.7"
  }
 },
 "nbformat": 4,
 "nbformat_minor": 2
}
