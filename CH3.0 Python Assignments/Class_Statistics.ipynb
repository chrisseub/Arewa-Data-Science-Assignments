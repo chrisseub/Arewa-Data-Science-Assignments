{
  "nbformat": 4,
  "nbformat_minor": 0,
  "metadata": {
    "colab": {
      "provenance": [],
      "authorship_tag": "ABX9TyOc3sEvu90+/LtMYi/WVlqB",
      "include_colab_link": true
    },
    "kernelspec": {
      "name": "python3",
      "display_name": "Python 3"
    },
    "language_info": {
      "name": "python"
    }
  },
  "cells": [
    {
      "cell_type": "markdown",
      "metadata": {
        "id": "view-in-github",
        "colab_type": "text"
      },
      "source": [
        "<a href=\"https://colab.research.google.com/github/chrisseub/Arewa-Data-Science-Assignments/blob/main/Class_Statistics.ipynb\" target=\"_parent\"><img src=\"https://colab.research.google.com/assets/colab-badge.svg\" alt=\"Open In Colab\"/></a>"
      ]
    },
    {
      "cell_type": "code",
      "execution_count": 4,
      "metadata": {
        "colab": {
          "base_uri": "https://localhost:8080/"
        },
        "id": "yfpOftOyai7m",
        "outputId": "7737c452-9aaa-4ec0-9589-4356731a748b"
      },
      "outputs": [
        {
          "output_type": "stream",
          "name": "stdout",
          "text": [
            "Mean: 29.76\n",
            "Median: 29.0\n",
            "Mode: 26\n",
            "Range: 14\n",
            "Variance: 17.542399999999997\n",
            "Standard Deviation: 4.188364836066696\n",
            "Min: 24\n",
            "Max: 38\n",
            "Count: 25\n",
            "25th Percentile: 26.0\n",
            "Frequency Distribution: {24: 2, 25: 1, 26: 5, 27: 4, 29: 1, 31: 2, 32: 3, 33: 2, 34: 2, 37: 2, 38: 1}\n"
          ]
        }
      ],
      "source": [
        "import numpy as np\n",
        "from scipy import stats\n",
        "import math\n",
        "\n",
        "class Statistics:\n",
        "    def __init__(self, data):\n",
        "        self.data = data\n",
        "\n",
        "    # Mean\n",
        "    def mean(self):\n",
        "        return np.mean(self.data)\n",
        "\n",
        "    # Median\n",
        "    def median(self):\n",
        "        return np.median(self.data)\n",
        "\n",
        "    # Mode\n",
        "    def mode(self):\n",
        "        mode_result = stats.mode(self.data)\n",
        "        return mode_result.mode[0] if isinstance(mode_result.mode, np.ndarray) else mode_result.mode # Fixed: Removed extra indentation\n",
        "\n",
        "    # Range\n",
        "    def range(self):\n",
        "        return np.max(self.data) - np.min(self.data)\n",
        "\n",
        "    # Variance\n",
        "    def variance(self):\n",
        "        return np.var(self.data)\n",
        "\n",
        "    # Standard Deviation\n",
        "    def std_deviation(self):\n",
        "        return np.std(self.data)\n",
        "\n",
        "    # Min\n",
        "    def min(self):\n",
        "        return np.min(self.data)\n",
        "\n",
        "    # Max\n",
        "    def max(self):\n",
        "        return np.max(self.data)\n",
        "\n",
        "    # Count\n",
        "    def count(self):\n",
        "        return len(self.data)\n",
        "\n",
        "    # Percentile\n",
        "    def percentile(self, p):\n",
        "        return np.percentile(self.data, p)\n",
        "\n",
        "    # Frequency Distribution\n",
        "    def frequency_distribution(self):\n",
        "        return dict(zip(*np.unique(self.data, return_counts=True)))\n",
        "\n",
        "# Sample data\n",
        "ages = [31, 26, 34, 37, 27, 26, 32, 32, 26, 27, 27, 24, 32, 33, 27, 25, 26, 38, 37, 31, 34, 24, 33, 29, 26]\n",
        "\n",
        "# Create an instance of the Statistics class\n",
        "stats_obj = Statistics(ages)\n",
        "\n",
        "# Calculations\n",
        "print(f\"Mean: {stats_obj.mean()}\")\n",
        "print(f\"Median: {stats_obj.median()}\")\n",
        "print(f\"Mode: {stats_obj.mode()}\")\n",
        "print(f\"Range: {stats_obj.range()}\")\n",
        "print(f\"Variance: {stats_obj.variance()}\")\n",
        "print(f\"Standard Deviation: {stats_obj.std_deviation()}\")\n",
        "print(f\"Min: {stats_obj.min()}\")\n",
        "print(f\"Max: {stats_obj.max()}\")\n",
        "print(f\"Count: {stats_obj.count()}\")\n",
        "print(f\"25th Percentile: {stats_obj.percentile(25)}\")\n",
        "print(f\"Frequency Distribution: {stats_obj.frequency_distribution()}\")"
      ]
    }
  ]
}