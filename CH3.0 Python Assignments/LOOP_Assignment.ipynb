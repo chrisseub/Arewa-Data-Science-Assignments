{
  "nbformat": 4,
  "nbformat_minor": 0,
  "metadata": {
    "colab": {
      "provenance": [],
      "authorship_tag": "ABX9TyMGDOn3ZlHmUOZFEFgVw8j3",
      "include_colab_link": true
    },
    "kernelspec": {
      "name": "python3",
      "display_name": "Python 3"
    },
    "language_info": {
      "name": "python"
    }
  },
  "cells": [
    {
      "cell_type": "markdown",
      "metadata": {
        "id": "view-in-github",
        "colab_type": "text"
      },
      "source": [
        "<a href=\"https://colab.research.google.com/github/chrisseub/Arewa-Data-Science-Assignments/blob/main/LOOP_Assignment.ipynb\" target=\"_parent\"><img src=\"https://colab.research.google.com/assets/colab-badge.svg\" alt=\"Open In Colab\"/></a>"
      ]
    },
    {
      "cell_type": "markdown",
      "source": [
        " Iterate from 0 to 10 using a for loop and a while loop"
      ],
      "metadata": {
        "id": "cRnVD731RSST"
      }
    },
    {
      "cell_type": "code",
      "execution_count": 1,
      "metadata": {
        "colab": {
          "base_uri": "https://localhost:8080/"
        },
        "id": "Y7Bkx68kRMB7",
        "outputId": "1c995b2e-889e-4664-a27c-6d1ff106c2bf"
      },
      "outputs": [
        {
          "output_type": "stream",
          "name": "stdout",
          "text": [
            "Iterating 0 to 10 using for loop:\n",
            "0\n",
            "1\n",
            "2\n",
            "3\n",
            "4\n",
            "5\n",
            "6\n",
            "7\n",
            "8\n",
            "9\n",
            "10\n",
            "\n",
            "Iterating 0 to 10 using while loop:\n",
            "0\n",
            "1\n",
            "2\n",
            "3\n",
            "4\n",
            "5\n",
            "6\n",
            "7\n",
            "8\n",
            "9\n",
            "10\n"
          ]
        }
      ],
      "source": [
        "# Using for loop\n",
        "print(\"Iterating 0 to 10 using for loop:\")\n",
        "for i in range(11):\n",
        "    print(i)\n",
        "\n",
        "# Using while loop\n",
        "print(\"\\nIterating 0 to 10 using while loop:\")\n",
        "i = 0\n",
        "while i <= 10:\n",
        "    print(i)\n",
        "    i += 1\n"
      ]
    },
    {
      "cell_type": "markdown",
      "source": [
        "Iterate from 10 to 0 using a for loop and a while loop"
      ],
      "metadata": {
        "id": "S7t7Ut94RZW3"
      }
    },
    {
      "cell_type": "code",
      "source": [
        "# Using for loop\n",
        "print(\"\\nIterating 10 to 0 using for loop:\")\n",
        "for i in range(10, -1, -1):\n",
        "    print(i)\n",
        "\n",
        "# Using while loop\n",
        "print(\"\\nIterating 10 to 0 using while loop:\")\n",
        "i = 10\n",
        "while i >= 0:\n",
        "    print(i)\n",
        "    i -= 1\n"
      ],
      "metadata": {
        "colab": {
          "base_uri": "https://localhost:8080/"
        },
        "id": "ysTom8nsReGD",
        "outputId": "f263febc-a25b-4425-cebb-130cfabeee88"
      },
      "execution_count": 2,
      "outputs": [
        {
          "output_type": "stream",
          "name": "stdout",
          "text": [
            "\n",
            "Iterating 10 to 0 using for loop:\n",
            "10\n",
            "9\n",
            "8\n",
            "7\n",
            "6\n",
            "5\n",
            "4\n",
            "3\n",
            "2\n",
            "1\n",
            "0\n",
            "\n",
            "Iterating 10 to 0 using while loop:\n",
            "10\n",
            "9\n",
            "8\n",
            "7\n",
            "6\n",
            "5\n",
            "4\n",
            "3\n",
            "2\n",
            "1\n",
            "0\n"
          ]
        }
      ]
    },
    {
      "cell_type": "markdown",
      "source": [
        "Print a triangle pattern with 7 rows"
      ],
      "metadata": {
        "id": "lRFArUgDRqMK"
      }
    },
    {
      "cell_type": "code",
      "source": [
        "# Using a loop to create the triangle\n",
        "print(\"\\nTriangle pattern:\")\n",
        "for i in range(1, 8):\n",
        "    print(\"#\" * i)\n"
      ],
      "metadata": {
        "colab": {
          "base_uri": "https://localhost:8080/"
        },
        "id": "E_GRaLQCSO5Y",
        "outputId": "f9c054a4-3887-4a4e-c2aa-455369d5edc5"
      },
      "execution_count": 3,
      "outputs": [
        {
          "output_type": "stream",
          "name": "stdout",
          "text": [
            "\n",
            "Triangle pattern:\n",
            "#\n",
            "##\n",
            "###\n",
            "####\n",
            "#####\n",
            "######\n",
            "#######\n"
          ]
        }
      ]
    }
  ]
}